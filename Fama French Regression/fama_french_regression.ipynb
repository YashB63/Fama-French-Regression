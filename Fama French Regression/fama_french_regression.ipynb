{
 "cells": [
  {
   "cell_type": "code",
   "execution_count": 26,
   "metadata": {},
   "outputs": [],
   "source": [
    "import pandas_datareader.data as reader\n",
    "import pandas as pd\n",
    "import datetime as dt\n",
    "import statsmodels.api as sm"
   ]
  },
  {
   "cell_type": "code",
   "execution_count": 37,
   "metadata": {},
   "outputs": [],
   "source": [
    "end = dt.date(2023,6,14)\n",
    "start = dt.date(end.year - 5, end.month, end.day)\n",
    "funds = ['FDGRX']"
   ]
  },
  {
   "cell_type": "code",
   "execution_count": 28,
   "metadata": {},
   "outputs": [],
   "source": [
    "import yfinance as yf\n",
    "yf.pdr_override()"
   ]
  },
  {
   "cell_type": "code",
   "execution_count": 29,
   "metadata": {},
   "outputs": [
    {
     "name": "stdout",
     "output_type": "stream",
     "text": [
      "[*********************100%***********************]  1 of 1 completed\n"
     ]
    }
   ],
   "source": [
    "fundsReturn = reader.get_data_yahoo(funds,start,end)['Adj Close'].pct_change()#adj_close = adjusted closed price"
   ]
  },
  {
   "cell_type": "code",
   "execution_count": 30,
   "metadata": {},
   "outputs": [],
   "source": [
    "fundsReturn_monthly = fundsReturn.resample('M').agg(lambda x: (x+1).prod() - 1)#M is the keyword for monthly, agg() matlab aggregate"
   ]
  },
  {
   "cell_type": "code",
   "execution_count": 31,
   "metadata": {},
   "outputs": [
    {
     "data": {
      "text/plain": [
       "Date\n",
       "2018-06-30   -0.045598\n",
       "2018-07-31    0.014383\n",
       "2018-08-31    0.075359\n",
       "2018-09-30   -0.006455\n",
       "2018-10-31   -0.121114\n",
       "                ...   \n",
       "2023-02-28   -0.012450\n",
       "2023-03-31    0.067914\n",
       "2023-04-30    0.009901\n",
       "2023-05-31    0.071267\n",
       "2023-06-30    0.049982\n",
       "Freq: M, Name: Adj Close, Length: 61, dtype: float64"
      ]
     },
     "execution_count": 31,
     "metadata": {},
     "output_type": "execute_result"
    }
   ],
   "source": [
    "fundsReturn_monthly"
   ]
  },
  {
   "cell_type": "code",
   "execution_count": 32,
   "metadata": {},
   "outputs": [],
   "source": [
    "# agar aapke case mey koi 0.0000 aisi value pehle row mey aa jaati hai to usko udane ke liye\n",
    "## fundsReturn_monthly = fundsReturn_monthly[1:] # isko chala dena"
   ]
  },
  {
   "cell_type": "code",
   "execution_count": 40,
   "metadata": {},
   "outputs": [
    {
     "name": "stdout",
     "output_type": "stream",
     "text": [
      "[*********************100%***********************]  1 of 1 completed\n",
      "\n",
      "1 Failed download:\n",
      "- F-F_RESEARCH_DATA_FACTORS: No timezone found, symbol may be delisted\n"
     ]
    }
   ],
   "source": [
    "factors = reader.DataReader('F-F_Research_Data_Factors','famafrench',start,end)"
   ]
  }
 ],
 "metadata": {
  "kernelspec": {
   "display_name": "Python 3",
   "language": "python",
   "name": "python3"
  },
  "language_info": {
   "codemirror_mode": {
    "name": "ipython",
    "version": 3
   },
   "file_extension": ".py",
   "mimetype": "text/x-python",
   "name": "python",
   "nbconvert_exporter": "python",
   "pygments_lexer": "ipython3",
   "version": "3.11.3"
  },
  "orig_nbformat": 4
 },
 "nbformat": 4,
 "nbformat_minor": 2
}
